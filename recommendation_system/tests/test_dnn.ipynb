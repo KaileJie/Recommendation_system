{
 "cells": [
  {
   "cell_type": "code",
   "execution_count": null,
   "id": "9152b2bb",
   "metadata": {},
   "outputs": [],
   "source": [
    "import pandas as pd\n",
    "import os\n",
    "\n",
    "# 切换到项目根目录或目标数据目录\n",
    "os.chdir(\"/Users/dallylovely/Desktop/CCGG/Projects/recommendation_system\")\n"
   ]
  },
  {
   "cell_type": "code",
   "execution_count": null,
   "id": "76a5b424",
   "metadata": {},
   "outputs": [],
   "source": [
    "# Step 2: 加载行为数据\n",
    "behavior_df = pd.read_csv(\"data/raw/user_behavior_log_info.csv\")"
   ]
  },
  {
   "cell_type": "code",
   "execution_count": null,
   "id": "7541aa62",
   "metadata": {},
   "outputs": [],
   "source": [
    "# Step 3: 构建 dt 时间列\n",
    "mmd_str = behavior_df[\"time_stamp\"].astype(str).str.zfill(4)\n",
    "month = mmd_str.str[:2]\n",
    "day = mmd_str.str[2:]\n",
    "behavior_df[\"dt\"] = pd.to_datetime(\n",
    "    behavior_df[\"year\"].astype(str) + \"-\" + month + \"-\" + day,\n",
    "    errors='coerce'\n",
    ") + pd.to_timedelta(behavior_df[\"timestamp\"], unit=\"s\")"
   ]
  },
  {
   "cell_type": "code",
   "execution_count": null,
   "id": "c8fa53ba",
   "metadata": {},
   "outputs": [],
   "source": [
    "# Step 4: 只取最近 7 天点击\n",
    "max_dt = behavior_df[\"dt\"].max()\n",
    "min_dt = max_dt - pd.Timedelta(days=7)\n",
    "click_df = behavior_df[\n",
    "    (behavior_df[\"dt\"] >= min_dt) &\n",
    "    (behavior_df[\"dt\"] <= max_dt) &\n",
    "    (behavior_df[\"action_type\"].str.lower() == \"click\")\n",
    "]"
   ]
  },
  {
   "cell_type": "code",
   "execution_count": null,
   "id": "e40f94b8",
   "metadata": {},
   "outputs": [
    {
     "name": "stdout",
     "output_type": "stream",
     "text": [
      "✅ Ground Truth 总点击数: 3132633\n",
      "📦 其中出现在 item_metadata 的 item 数: 89019\n",
      "📉 命中比例: 2.84%\n"
     ]
    }
   ],
   "source": [
    "# Step 5: 判断点击的 item 是否出现在 item_metadata 中\n",
    "total_gt = len(click_df)\n",
    "in_vocab = click_df[\"item_id\"].astype(str).isin(valid_items).sum()\n",
    "ratio = round(in_vocab / total_gt, 4) if total_gt > 0 else 0\n",
    "\n",
    "print(f\"✅ Ground Truth 总点击数: {total_gt}\")\n",
    "print(f\"📦 其中出现在 item_metadata 的 item 数: {in_vocab}\")\n",
    "print(f\"📉 命中比例: {ratio * 100:.2f}%\")\n"
   ]
  },
  {
   "cell_type": "code",
   "execution_count": 32,
   "id": "fea81d02",
   "metadata": {},
   "outputs": [],
   "source": [
    "recall_df = pd.read_csv(\"output/youtube_dnn/youtube_dnn_faiss_recall.csv\")\n",
    "behavior_df = pd.read_csv(\"data/raw/user_behavior_log_info.csv\")\n",
    "item_df = pd.read_csv(\"data/raw/item_metadata.csv\")"
   ]
  },
  {
   "cell_type": "code",
   "execution_count": 34,
   "id": "17b2abd5",
   "metadata": {},
   "outputs": [],
   "source": [
    "from src.data.load_behavior_log import build_datetime\n"
   ]
  },
  {
   "cell_type": "code",
   "execution_count": 35,
   "id": "2e679e79",
   "metadata": {},
   "outputs": [
    {
     "name": "stderr",
     "output_type": "stream",
     "text": [
      "/var/folders/gt/0bpw6l095l7fmbtr7428l3n40000gn/T/ipykernel_72737/1580125509.py:10: SettingWithCopyWarning: \n",
      "A value is trying to be set on a copy of a slice from a DataFrame.\n",
      "Try using .loc[row_indexer,col_indexer] = value instead\n",
      "\n",
      "See the caveats in the documentation: https://pandas.pydata.org/pandas-docs/stable/user_guide/indexing.html#returning-a-view-versus-a-copy\n",
      "  click_df[\"item_id\"] = click_df[\"item_id\"].astype(str)\n"
     ]
    },
    {
     "name": "stdout",
     "output_type": "stream",
     "text": [
      "✅ Recall user count: 424170\n",
      "✅ Ground Truth user count: 26350\n",
      "🔍 Overlap user count: 26350\n"
     ]
    }
   ],
   "source": [
    "# Ground truth 用户（点击行为）\n",
    "behavior_df['dt'] = build_datetime(behavior_df['year'], behavior_df['time_stamp'], behavior_df['timestamp'])\n",
    "gt_max = behavior_df[\"dt\"].max()\n",
    "gt_min = gt_max - pd.Timedelta(days=7)\n",
    "click_df = behavior_df[\n",
    "    (behavior_df[\"dt\"] >= gt_min) &\n",
    "    (behavior_df[\"dt\"] <= gt_max) &\n",
    "    (behavior_df[\"action_type\"].str.lower() == \"click\")\n",
    "]\n",
    "click_df[\"item_id\"] = click_df[\"item_id\"].astype(str)\n",
    "valid_item_ids = set(item_df[\"item_id\"].astype(str).unique())\n",
    "click_df = click_df[click_df[\"item_id\"].isin(valid_item_ids)]\n",
    "gt_users = set(click_df[\"user_id\"].astype(str).unique())\n",
    "\n",
    "# Recall 用户\n",
    "recall_users = set(recall_df[\"user_id\"].astype(str).unique())\n",
    "\n",
    "# 打印交集情况\n",
    "print(\"✅ Recall user count:\", len(recall_users))\n",
    "print(\"✅ Ground Truth user count:\", len(gt_users))\n",
    "print(\"🔍 Overlap user count:\", len(recall_users & gt_users))"
   ]
  },
  {
   "cell_type": "code",
   "execution_count": 36,
   "id": "6adffa2b",
   "metadata": {},
   "outputs": [
    {
     "name": "stdout",
     "output_type": "stream",
     "text": [
      "🧪 分析前 10 个 Ground Truth 用户:\n",
      "========================================\n",
      "👤 用户: 328862\n",
      "✅ Ground Truth Clicked Items (1): {'406349'}\n",
      "🎯 Recalled Items (10): {'413046', '215089', '201361', '81766', '1089499', '67897', '333159', '671759', '492131', '815434'}\n",
      "🔥 Hit Items: set()\n",
      "❌ Missed Items: {'406349'}\n",
      "========================================\n",
      "👤 用户: 234512\n",
      "✅ Ground Truth Clicked Items (4): {'524779', '758374', '233274', '137298'}\n",
      "🎯 Recalled Items (10): {'413046', '215089', '201361', '81766', '1089499', '67897', '333159', '671759', '492131', '815434'}\n",
      "🔥 Hit Items: set()\n",
      "❌ Missed Items: {'524779', '758374', '137298', '233274'}\n",
      "========================================\n",
      "👤 用户: 356311\n",
      "✅ Ground Truth Clicked Items (11): {'685857', '215289', '931066', '335377', '1016560', '758374', '913290', '998103', '830436', '492131', '269842'}\n",
      "🎯 Recalled Items (10): {'413046', '215089', '201361', '487805', '922514', '1089499', '67897', '333159', '671759', '492131'}\n",
      "🔥 Hit Items: {'492131'}\n",
      "❌ Missed Items: {'685857', '215289', '931066', '335377', '1016560', '758374', '913290', '998103', '830436', '269842'}\n",
      "========================================\n",
      "👤 用户: 272389\n",
      "✅ Ground Truth Clicked Items (1): {'1112375'}\n",
      "🎯 Recalled Items (10): {'215089', '81766', '1089499', '524981', '197239', '67897', '671759', '963870', '943106', '815434'}\n",
      "🔥 Hit Items: set()\n",
      "❌ Missed Items: {'1112375'}\n",
      "========================================\n",
      "👤 用户: 139859\n",
      "✅ Ground Truth Clicked Items (3): {'946684', '333159', '671759'}\n",
      "🎯 Recalled Items (10): {'413046', '215089', '201361', '487805', '922514', '1089499', '67897', '333159', '671759', '492131'}\n",
      "🔥 Hit Items: {'333159', '671759'}\n",
      "❌ Missed Items: {'946684'}\n",
      "========================================\n",
      "👤 用户: 102269\n",
      "✅ Ground Truth Clicked Items (2): {'82939', '222610'}\n",
      "🎯 Recalled Items (10): {'413046', '215089', '201361', '81766', '1089499', '67897', '333159', '671759', '492131', '815434'}\n",
      "🔥 Hit Items: set()\n",
      "❌ Missed Items: {'82939', '222610'}\n",
      "========================================\n",
      "👤 用户: 186568\n",
      "✅ Ground Truth Clicked Items (1): {'183877'}\n",
      "🎯 Recalled Items (10): {'623866', '81766', '1089499', '524981', '197239', '239288', '67897', '963870', '943106', '815434'}\n",
      "🔥 Hit Items: set()\n",
      "❌ Missed Items: {'183877'}\n",
      "========================================\n",
      "👤 用户: 149002\n",
      "✅ Ground Truth Clicked Items (5): {'536300', '989660', '282', '293327', '768559'}\n",
      "🎯 Recalled Items (10): {'81766', '1089499', '524981', '67897', '333159', '671759', '963870', '492131', '943106', '815434'}\n",
      "🔥 Hit Items: set()\n",
      "❌ Missed Items: {'536300', '989660', '282', '293327', '768559'}\n",
      "========================================\n",
      "👤 用户: 92396\n",
      "✅ Ground Truth Clicked Items (5): {'413046', '722907', '1043094', '953159', '997507'}\n",
      "🎯 Recalled Items (10): {'413046', '215089', '81766', '1089499', '67897', '333159', '671759', '492131', '943106', '815434'}\n",
      "🔥 Hit Items: {'413046'}\n",
      "❌ Missed Items: {'953159', '722907', '997507', '1043094'}\n",
      "========================================\n",
      "👤 用户: 37908\n",
      "✅ Ground Truth Clicked Items (3): {'856349', '918243', '704096'}\n",
      "🎯 Recalled Items (10): {'413046', '215089', '81766', '1089499', '524981', '67897', '671759', '963870', '943106', '815434'}\n",
      "🔥 Hit Items: set()\n",
      "❌ Missed Items: {'856349', '918243', '704096'}\n"
     ]
    }
   ],
   "source": [
    "import pandas as pd\n",
    "from collections import defaultdict\n",
    "from src.data.load_behavior_log import build_datetime\n",
    "\n",
    "# ----------- Config -----------\n",
    "RECALL_CSV = \"output/youtube_dnn/youtube_dnn_faiss_recall.csv\"\n",
    "BEHAVIOR_CSV = \"data/raw/user_behavior_log_info.csv\"\n",
    "ITEM_CSV = \"data/raw/item_metadata.csv\"\n",
    "TOP_K = 10\n",
    "GROUND_TRUTH_WINDOW_DAYS = 7\n",
    "NUM_USERS_TO_CHECK = 10\n",
    "\n",
    "# ----------- 1. Load recall results -----------\n",
    "recall_df = pd.read_csv(RECALL_CSV)\n",
    "recall_df[\"user_id\"] = recall_df[\"user_id\"].astype(str)\n",
    "recall_df[\"item_id\"] = recall_df[\"item_id\"].astype(str)\n",
    "\n",
    "# ----------- 2. Load item metadata -----------\n",
    "item_df = pd.read_csv(ITEM_CSV)\n",
    "valid_item_ids = set(item_df[\"item_id\"].astype(str).unique())\n",
    "\n",
    "# ----------- 3. Load ground truth -----------\n",
    "df = pd.read_csv(BEHAVIOR_CSV)\n",
    "df[\"dt\"] = build_datetime(df[\"year\"], df[\"time_stamp\"], df[\"timestamp\"])\n",
    "df[\"item_id\"] = df[\"item_id\"].astype(str)\n",
    "df[\"user_id\"] = df[\"user_id\"].astype(str)\n",
    "\n",
    "max_dt = df[\"dt\"].max()\n",
    "min_dt = max_dt - pd.Timedelta(days=GROUND_TRUTH_WINDOW_DAYS)\n",
    "click_df = df[\n",
    "    (df[\"dt\"] >= min_dt) &\n",
    "    (df[\"dt\"] <= max_dt) &\n",
    "    (df[\"action_type\"].str.lower() == \"click\") &\n",
    "    (df[\"item_id\"].isin(valid_item_ids))\n",
    "].copy()\n",
    "\n",
    "# Build ground truth dict\n",
    "gt_dict = defaultdict(set)\n",
    "for row in click_df.itertuples(index=False):\n",
    "    gt_dict[row.user_id].add(row.item_id)\n",
    "\n",
    "# ----------- 4. Analyze first N users with GT -----------\n",
    "print(f\"🧪 分析前 {NUM_USERS_TO_CHECK} 个 Ground Truth 用户:\")\n",
    "\n",
    "checked = 0\n",
    "for user_id in gt_dict:\n",
    "    if user_id not in recall_df[\"user_id\"].values:\n",
    "        continue\n",
    "\n",
    "    recalled_items = set(\n",
    "        recall_df[(recall_df[\"user_id\"] == user_id) & (recall_df[\"rank\"] <= TOP_K)][\"item_id\"]\n",
    "    )\n",
    "    clicked_items = gt_dict[user_id]\n",
    "    hit_items = recalled_items & clicked_items\n",
    "    missed_items = clicked_items - recalled_items\n",
    "\n",
    "    print(\"=\" * 40)\n",
    "    print(f\"👤 用户: {user_id}\")\n",
    "    print(f\"✅ Ground Truth Clicked Items ({len(clicked_items)}): {clicked_items}\")\n",
    "    print(f\"🎯 Recalled Items ({len(recalled_items)}): {recalled_items}\")\n",
    "    print(f\"🔥 Hit Items: {hit_items}\")\n",
    "    print(f\"❌ Missed Items: {missed_items}\")\n",
    "\n",
    "    checked += 1\n",
    "    if checked >= NUM_USERS_TO_CHECK:\n",
    "        break\n"
   ]
  },
  {
   "cell_type": "code",
   "execution_count": null,
   "id": "2dfc8d89",
   "metadata": {},
   "outputs": [],
   "source": []
  }
 ],
 "metadata": {
  "kernelspec": {
   "display_name": "base",
   "language": "python",
   "name": "python3"
  },
  "language_info": {
   "codemirror_mode": {
    "name": "ipython",
    "version": 3
   },
   "file_extension": ".py",
   "mimetype": "text/x-python",
   "name": "python",
   "nbconvert_exporter": "python",
   "pygments_lexer": "ipython3",
   "version": "3.9.18"
  }
 },
 "nbformat": 4,
 "nbformat_minor": 5
}
