{
 "cells": [
  {
   "cell_type": "code",
   "execution_count": 1,
   "id": "f65b4331",
   "metadata": {},
   "outputs": [
    {
     "name": "stdout",
     "output_type": "stream",
     "text": [
      "Intel MKL WARNING: Support of Intel(R) Streaming SIMD Extensions 4.2 (Intel(R) SSE4.2) enabled only processors has been deprecated. Intel oneAPI Math Kernel Library 2025.0 will require Intel(R) Advanced Vector Extensions (Intel(R) AVX) instructions.\n",
      "Intel MKL WARNING: Support of Intel(R) Streaming SIMD Extensions 4.2 (Intel(R) SSE4.2) enabled only processors has been deprecated. Intel oneAPI Math Kernel Library 2025.0 will require Intel(R) Advanced Vector Extensions (Intel(R) AVX) instructions.\n"
     ]
    }
   ],
   "source": [
    "import pandas as pd\n",
    "import os\n",
    "\n",
    "# 切换到项目根目录或目标数据目录\n",
    "os.chdir(\"/Users/dallylovely/Desktop/CCGG/Projects/recommendation_system\")"
   ]
  },
  {
   "cell_type": "code",
   "execution_count": 2,
   "id": "c1c3aed1",
   "metadata": {},
   "outputs": [
    {
     "name": "stdout",
     "output_type": "stream",
     "text": [
      "✅ Loaded 970566 records\n",
      "📊 Label distribution: Counter({0: 968080, 1: 2486})\n",
      "⚖️ Positive ratio: 0.0026\n",
      "\n",
      "🔍 Example positive samples:\n",
      "[{'user_id': '234', 'item_id': '448776', 'label': 1, 'scores': {'itemcf': 0.0, 'keyword': 1.0, 'youtube_dnn': 2.9421043395996094}, 'features': {'age_range': 4.0, 'gender': 0.0, 'city': 'Arizona/Phoenix', 'cluster_id': 2, 'recency': 1, 'frequency': 65.0, 'actions_per_active_day_30d': 5.416666666666667, 'monetary': 71.0, 'rfm_score': 211}}, {'user_id': '348', 'item_id': '922514', 'label': 1, 'scores': {'itemcf': 0.0, 'keyword': 0.9500000000000002, 'youtube_dnn': 0.0}, 'features': {'age_range': 2.0, 'gender': 0.0, 'city': 'California/San Francisco', 'cluster_id': 0, 'recency': 1, 'frequency': 10.0, 'actions_per_active_day_30d': 2.5, 'monetary': 13.0, 'rfm_score': 222}}, {'user_id': '857', 'item_id': '251929', 'label': 1, 'scores': {'itemcf': 0.0, 'keyword': 0.9555555555555556, 'youtube_dnn': 5.043097972869873}, 'features': {'age_range': 4.0, 'gender': 1.0, 'city': 'Colorado/Denver', 'cluster_id': 0, 'recency': 1, 'frequency': 10.0, 'actions_per_active_day_30d': 1.6666666666666667, 'monetary': 12.0, 'rfm_score': 322}}, {'user_id': '1071', 'item_id': '632330', 'label': 1, 'scores': {'itemcf': 0.0, 'keyword': 0.9789473684210528, 'youtube_dnn': 0.0}, 'features': {'age_range': 4.0, 'gender': 0.0, 'city': 'California/San Francisco', 'cluster_id': 2, 'recency': 1, 'frequency': 26.0, 'actions_per_active_day_30d': 4.333333333333333, 'monetary': 37.0, 'rfm_score': 411}}, {'user_id': '1898', 'item_id': '448776', 'label': 1, 'scores': {'itemcf': 0.0, 'keyword': 0.9341346045374406, 'youtube_dnn': 0.337921530008316}, 'features': {'age_range': 3.0, 'gender': 0.0, 'city': 'Colorado/Denver', 'cluster_id': 0, 'recency': 3, 'frequency': 16.0, 'actions_per_active_day_30d': 2.6666666666666665, 'monetary': 18.0, 'rfm_score': 111}}]\n"
     ]
    }
   ],
   "source": [
    "# 📒 meta_ranker_data_check.ipynb\n",
    "\n",
    "import json\n",
    "import pandas as pd\n",
    "from collections import Counter\n",
    "\n",
    "# 1. 文件路径\n",
    "DATA_PATH = \"output/meta_ranker/training_data.json\"\n",
    "\n",
    "# 2. 逐行读取 JSON\n",
    "records = []\n",
    "with open(DATA_PATH, \"r\") as f:\n",
    "    for line in f:\n",
    "        try:\n",
    "            records.append(json.loads(line.strip()))\n",
    "        except json.JSONDecodeError:\n",
    "            continue\n",
    "\n",
    "print(f\"✅ Loaded {len(records)} records\")\n",
    "\n",
    "# 3. 转 DataFrame，方便统计\n",
    "df = pd.DataFrame(records)\n",
    "\n",
    "# 4. 统计正负样本\n",
    "label_counts = Counter(df[\"label\"])\n",
    "print(\"📊 Label distribution:\", label_counts)\n",
    "\n",
    "# 5. 正负比例\n",
    "pos_ratio = label_counts[1] / max(1, sum(label_counts.values()))\n",
    "print(f\"⚖️ Positive ratio: {pos_ratio:.4f}\")\n",
    "\n",
    "# 6. 打印几条正样本\n",
    "print(\"\\n🔍 Example positive samples:\")\n",
    "print(df[df[\"label\"] == 1].head(5).to_dict(orient=\"records\"))\n"
   ]
  },
  {
   "cell_type": "code",
   "execution_count": 3,
   "id": "85f8a304",
   "metadata": {},
   "outputs": [
    {
     "name": "stdout",
     "output_type": "stream",
     "text": [
      "4.6.0\n"
     ]
    }
   ],
   "source": [
    "import lightgbm as lgb\n",
    "print(lgb.__version__)\n"
   ]
  },
  {
   "cell_type": "code",
   "execution_count": null,
   "id": "8e48575a",
   "metadata": {},
   "outputs": [],
   "source": []
  }
 ],
 "metadata": {
  "kernelspec": {
   "display_name": "base",
   "language": "python",
   "name": "python3"
  },
  "language_info": {
   "codemirror_mode": {
    "name": "ipython",
    "version": 3
   },
   "file_extension": ".py",
   "mimetype": "text/x-python",
   "name": "python",
   "nbconvert_exporter": "python",
   "pygments_lexer": "ipython3",
   "version": "3.9.18"
  }
 },
 "nbformat": 4,
 "nbformat_minor": 5
}
