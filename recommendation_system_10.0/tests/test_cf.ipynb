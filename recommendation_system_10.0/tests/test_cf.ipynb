{
 "cells": [
  {
   "cell_type": "code",
   "execution_count": 8,
   "id": "eaa89933",
   "metadata": {},
   "outputs": [],
   "source": [
    "import pandas as pd\n",
    "import os\n",
    "\n",
    "# 切换到项目根目录或目标数据目录\n",
    "os.chdir(\"/Users/dallylovely/Desktop/CCGG/Projects/recommendation_system\")"
   ]
  },
  {
   "cell_type": "code",
   "execution_count": 2,
   "id": "2cdd4fb8",
   "metadata": {},
   "outputs": [],
   "source": [
    "import pandas as pd\n",
    "from src.recall.cf.dataset_cf import load_valid_item_ids, load_cf_behavior_df\n",
    "\n",
    "behavior_csv = \"data/raw/user_behavior_log_info.csv\"\n",
    "item_csv = \"data/raw/item_metadata.csv\""
   ]
  },
  {
   "cell_type": "code",
   "execution_count": 3,
   "id": "e3d206b1",
   "metadata": {},
   "outputs": [
    {
     "name": "stdout",
     "output_type": "stream",
     "text": [
      "✅ 合法 item 数量: 419\n"
     ]
    }
   ],
   "source": [
    "# 1. 加载合法的 item_id 集合\n",
    "valid_item_ids = load_valid_item_ids(item_csv)\n",
    "print(f\"✅ 合法 item 数量: {len(valid_item_ids)}\")"
   ]
  },
  {
   "cell_type": "code",
   "execution_count": 4,
   "id": "1b27c33b",
   "metadata": {},
   "outputs": [
    {
     "name": "stderr",
     "output_type": "stream",
     "text": [
      "2025-08-26 13:07:40,363 INFO:🔄 Preparing CF behavior data...\n",
      "2025-08-26 13:08:11,865 INFO:Max behavior date found: 2024-11-12 00:00:00, window from 2024-10-14 00:00:00 to 2024-11-13 00:00:00\n",
      "2025-08-26 13:08:12,266 INFO:Filtered chunk by valid item_ids: 46421 → 1450\n",
      "2025-08-26 13:08:12,279 INFO:Filtered chunk by valid actions: 1450 → 1450\n",
      "2025-08-26 13:08:12,643 INFO:Filtered chunk by valid item_ids: 47080 → 1394\n",
      "2025-08-26 13:08:12,647 INFO:Filtered chunk by valid actions: 1394 → 1394\n",
      "2025-08-26 13:08:13,010 INFO:Filtered chunk by valid item_ids: 46894 → 941\n",
      "2025-08-26 13:08:13,021 INFO:Filtered chunk by valid actions: 941 → 941\n",
      "2025-08-26 13:08:13,378 INFO:Filtered chunk by valid item_ids: 46234 → 1100\n",
      "2025-08-26 13:08:13,382 INFO:Filtered chunk by valid actions: 1100 → 1100\n",
      "2025-08-26 13:08:13,750 INFO:Filtered chunk by valid item_ids: 46398 → 931\n",
      "2025-08-26 13:08:13,754 INFO:Filtered chunk by valid actions: 931 → 931\n",
      "2025-08-26 13:08:14,117 INFO:Filtered chunk by valid item_ids: 46068 → 692\n",
      "2025-08-26 13:08:14,120 INFO:Filtered chunk by valid actions: 692 → 692\n",
      "2025-08-26 13:08:14,486 INFO:Filtered chunk by valid item_ids: 45999 → 902\n",
      "2025-08-26 13:08:14,489 INFO:Filtered chunk by valid actions: 902 → 902\n",
      "2025-08-26 13:08:14,868 INFO:Filtered chunk by valid item_ids: 46600 → 783\n",
      "2025-08-26 13:08:14,871 INFO:Filtered chunk by valid actions: 783 → 783\n",
      "2025-08-26 13:08:15,302 INFO:Filtered chunk by valid item_ids: 46713 → 851\n",
      "2025-08-26 13:08:15,305 INFO:Filtered chunk by valid actions: 851 → 851\n",
      "2025-08-26 13:08:15,669 INFO:Filtered chunk by valid item_ids: 47940 → 657\n",
      "2025-08-26 13:08:15,672 INFO:Filtered chunk by valid actions: 657 → 657\n",
      "2025-08-26 13:08:16,043 INFO:Filtered chunk by valid item_ids: 47776 → 806\n",
      "2025-08-26 13:08:16,047 INFO:Filtered chunk by valid actions: 806 → 806\n",
      "2025-08-26 13:08:16,421 INFO:Filtered chunk by valid item_ids: 48352 → 931\n",
      "2025-08-26 13:08:16,425 INFO:Filtered chunk by valid actions: 931 → 931\n",
      "2025-08-26 13:08:16,809 INFO:Filtered chunk by valid item_ids: 49518 → 1011\n",
      "2025-08-26 13:08:16,812 INFO:Filtered chunk by valid actions: 1011 → 1011\n",
      "2025-08-26 13:08:17,177 INFO:Filtered chunk by valid item_ids: 49426 → 711\n",
      "2025-08-26 13:08:17,180 INFO:Filtered chunk by valid actions: 711 → 711\n",
      "2025-08-26 13:08:17,543 INFO:Filtered chunk by valid item_ids: 52845 → 1228\n",
      "2025-08-26 13:08:17,547 INFO:Filtered chunk by valid actions: 1228 → 1228\n",
      "2025-08-26 13:08:17,915 INFO:Filtered chunk by valid item_ids: 58799 → 1169\n",
      "2025-08-26 13:08:17,919 INFO:Filtered chunk by valid actions: 1169 → 1169\n",
      "2025-08-26 13:08:18,291 INFO:Filtered chunk by valid item_ids: 47295 → 1275\n",
      "2025-08-26 13:08:18,294 INFO:Filtered chunk by valid actions: 1275 → 1275\n",
      "2025-08-26 13:08:18,667 INFO:Filtered chunk by valid item_ids: 46202 → 978\n",
      "2025-08-26 13:08:18,670 INFO:Filtered chunk by valid actions: 978 → 978\n",
      "2025-08-26 13:08:19,038 INFO:Filtered chunk by valid item_ids: 46866 → 1006\n",
      "2025-08-26 13:08:19,041 INFO:Filtered chunk by valid actions: 1006 → 1006\n",
      "2025-08-26 13:08:19,400 INFO:Filtered chunk by valid item_ids: 46493 → 1005\n",
      "2025-08-26 13:08:19,404 INFO:Filtered chunk by valid actions: 1005 → 1005\n",
      "2025-08-26 13:08:19,772 INFO:Filtered chunk by valid item_ids: 45676 → 833\n",
      "2025-08-26 13:08:19,775 INFO:Filtered chunk by valid actions: 833 → 833\n",
      "2025-08-26 13:08:20,153 INFO:Filtered chunk by valid item_ids: 45883 → 712\n",
      "2025-08-26 13:08:20,156 INFO:Filtered chunk by valid actions: 712 → 712\n",
      "2025-08-26 13:08:20,513 INFO:Filtered chunk by valid item_ids: 46779 → 1069\n",
      "2025-08-26 13:08:20,517 INFO:Filtered chunk by valid actions: 1069 → 1069\n",
      "2025-08-26 13:08:20,873 INFO:Filtered chunk by valid item_ids: 46367 → 672\n",
      "2025-08-26 13:08:20,878 INFO:Filtered chunk by valid actions: 672 → 672\n",
      "2025-08-26 13:08:21,237 INFO:Filtered chunk by valid item_ids: 47179 → 667\n",
      "2025-08-26 13:08:21,241 INFO:Filtered chunk by valid actions: 667 → 667\n",
      "2025-08-26 13:08:21,613 INFO:Filtered chunk by valid item_ids: 46996 → 860\n",
      "2025-08-26 13:08:21,616 INFO:Filtered chunk by valid actions: 860 → 860\n",
      "2025-08-26 13:08:21,981 INFO:Filtered chunk by valid item_ids: 48493 → 1660\n",
      "2025-08-26 13:08:21,985 INFO:Filtered chunk by valid actions: 1660 → 1660\n",
      "2025-08-26 13:08:22,349 INFO:Filtered chunk by valid item_ids: 48775 → 744\n",
      "2025-08-26 13:08:22,352 INFO:Filtered chunk by valid actions: 744 → 744\n",
      "2025-08-26 13:08:22,721 INFO:Filtered chunk by valid item_ids: 49455 → 1312\n",
      "2025-08-26 13:08:22,725 INFO:Filtered chunk by valid actions: 1312 → 1312\n",
      "2025-08-26 13:08:23,093 INFO:Filtered chunk by valid item_ids: 52503 → 1003\n",
      "2025-08-26 13:08:23,098 INFO:Filtered chunk by valid actions: 1003 → 1003\n",
      "2025-08-26 13:08:23,470 INFO:Filtered chunk by valid item_ids: 51482 → 736\n",
      "2025-08-26 13:08:23,473 INFO:Filtered chunk by valid actions: 736 → 736\n",
      "2025-08-26 13:08:23,838 INFO:Filtered chunk by valid item_ids: 57435 → 1098\n",
      "2025-08-26 13:08:23,842 INFO:Filtered chunk by valid actions: 1098 → 1098\n",
      "2025-08-26 13:08:24,204 INFO:Filtered chunk by valid item_ids: 47758 → 1022\n",
      "2025-08-26 13:08:24,207 INFO:Filtered chunk by valid actions: 1022 → 1022\n",
      "2025-08-26 13:08:24,573 INFO:Filtered chunk by valid item_ids: 47651 → 1384\n",
      "2025-08-26 13:08:24,576 INFO:Filtered chunk by valid actions: 1384 → 1384\n",
      "2025-08-26 13:08:24,944 INFO:Filtered chunk by valid item_ids: 46107 → 849\n",
      "2025-08-26 13:08:24,947 INFO:Filtered chunk by valid actions: 849 → 849\n",
      "2025-08-26 13:08:25,315 INFO:Filtered chunk by valid item_ids: 46697 → 1652\n",
      "2025-08-26 13:08:25,319 INFO:Filtered chunk by valid actions: 1652 → 1652\n",
      "2025-08-26 13:08:25,681 INFO:Filtered chunk by valid item_ids: 47030 → 846\n",
      "2025-08-26 13:08:25,685 INFO:Filtered chunk by valid actions: 846 → 846\n",
      "2025-08-26 13:08:26,051 INFO:Filtered chunk by valid item_ids: 46021 → 720\n",
      "2025-08-26 13:08:26,054 INFO:Filtered chunk by valid actions: 720 → 720\n",
      "2025-08-26 13:08:26,447 INFO:Filtered chunk by valid item_ids: 47073 → 857\n",
      "2025-08-26 13:08:26,451 INFO:Filtered chunk by valid actions: 857 → 857\n",
      "2025-08-26 13:08:26,827 INFO:Filtered chunk by valid item_ids: 47478 → 1139\n",
      "2025-08-26 13:08:26,831 INFO:Filtered chunk by valid actions: 1139 → 1139\n",
      "2025-08-26 13:08:27,194 INFO:Filtered chunk by valid item_ids: 47355 → 651\n",
      "2025-08-26 13:08:27,197 INFO:Filtered chunk by valid actions: 651 → 651\n",
      "2025-08-26 13:08:27,563 INFO:Filtered chunk by valid item_ids: 48538 → 833\n",
      "2025-08-26 13:08:27,566 INFO:Filtered chunk by valid actions: 833 → 833\n",
      "2025-08-26 13:08:27,930 INFO:Filtered chunk by valid item_ids: 48038 → 759\n",
      "2025-08-26 13:08:27,934 INFO:Filtered chunk by valid actions: 759 → 759\n",
      "2025-08-26 13:08:28,304 INFO:Filtered chunk by valid item_ids: 49239 → 970\n",
      "2025-08-26 13:08:28,308 INFO:Filtered chunk by valid actions: 970 → 970\n",
      "2025-08-26 13:08:28,988 INFO:Filtered chunk by valid item_ids: 48721 → 681\n",
      "2025-08-26 13:08:28,996 INFO:Filtered chunk by valid actions: 681 → 681\n",
      "2025-08-26 13:08:29,503 INFO:Filtered chunk by valid item_ids: 51182 → 715\n",
      "2025-08-26 13:08:29,506 INFO:Filtered chunk by valid actions: 715 → 715\n",
      "2025-08-26 13:08:29,883 INFO:Filtered chunk by valid item_ids: 55882 → 1144\n",
      "2025-08-26 13:08:29,886 INFO:Filtered chunk by valid actions: 1144 → 1144\n",
      "2025-08-26 13:08:30,262 INFO:Filtered chunk by valid item_ids: 52511 → 1079\n",
      "2025-08-26 13:08:30,266 INFO:Filtered chunk by valid actions: 1079 → 1079\n",
      "2025-08-26 13:08:30,684 INFO:Filtered chunk by valid item_ids: 47322 → 1209\n",
      "2025-08-26 13:08:30,689 INFO:Filtered chunk by valid actions: 1209 → 1209\n",
      "2025-08-26 13:08:31,058 INFO:Filtered chunk by valid item_ids: 46829 → 917\n",
      "2025-08-26 13:08:31,062 INFO:Filtered chunk by valid actions: 917 → 917\n",
      "2025-08-26 13:08:31,423 INFO:Filtered chunk by valid item_ids: 46004 → 990\n",
      "2025-08-26 13:08:31,426 INFO:Filtered chunk by valid actions: 990 → 990\n",
      "2025-08-26 13:08:31,803 INFO:Filtered chunk by valid item_ids: 45344 → 983\n",
      "2025-08-26 13:08:31,806 INFO:Filtered chunk by valid actions: 983 → 983\n",
      "2025-08-26 13:08:32,175 INFO:Filtered chunk by valid item_ids: 46195 → 713\n",
      "2025-08-26 13:08:32,178 INFO:Filtered chunk by valid actions: 713 → 713\n",
      "2025-08-26 13:08:32,536 INFO:Filtered chunk by valid item_ids: 45771 → 617\n",
      "2025-08-26 13:08:32,539 INFO:Filtered chunk by valid actions: 617 → 617\n",
      "2025-08-26 13:08:32,899 INFO:Filtered chunk by valid item_ids: 46686 → 1014\n",
      "2025-08-26 13:08:32,903 INFO:Filtered chunk by valid actions: 1014 → 1014\n",
      "2025-08-26 13:08:33,259 INFO:Filtered chunk by valid item_ids: 47468 → 894\n",
      "2025-08-26 13:08:33,263 INFO:Filtered chunk by valid actions: 894 → 894\n",
      "2025-08-26 13:08:33,619 INFO:Filtered chunk by valid item_ids: 46954 → 1655\n",
      "2025-08-26 13:08:33,623 INFO:Filtered chunk by valid actions: 1655 → 1655\n",
      "2025-08-26 13:08:33,995 INFO:Filtered chunk by valid item_ids: 47411 → 820\n",
      "2025-08-26 13:08:33,998 INFO:Filtered chunk by valid actions: 820 → 820\n",
      "2025-08-26 13:08:34,356 INFO:Filtered chunk by valid item_ids: 49354 → 984\n",
      "2025-08-26 13:08:34,359 INFO:Filtered chunk by valid actions: 984 → 984\n",
      "2025-08-26 13:08:34,730 INFO:Filtered chunk by valid item_ids: 49143 → 872\n",
      "2025-08-26 13:08:34,733 INFO:Filtered chunk by valid actions: 872 → 872\n",
      "2025-08-26 13:08:35,091 INFO:Filtered chunk by valid item_ids: 49405 → 810\n",
      "2025-08-26 13:08:35,094 INFO:Filtered chunk by valid actions: 810 → 810\n",
      "2025-08-26 13:08:35,468 INFO:Filtered chunk by valid item_ids: 52783 → 1278\n",
      "2025-08-26 13:08:35,471 INFO:Filtered chunk by valid actions: 1278 → 1278\n",
      "2025-08-26 13:08:35,839 INFO:Filtered chunk by valid item_ids: 59763 → 1628\n",
      "2025-08-26 13:08:35,844 INFO:Filtered chunk by valid actions: 1628 → 1628\n",
      "2025-08-26 13:08:36,203 INFO:Filtered chunk by valid item_ids: 46985 → 1350\n",
      "2025-08-26 13:08:36,207 INFO:Filtered chunk by valid actions: 1350 → 1350\n",
      "2025-08-26 13:08:36,572 INFO:Filtered chunk by valid item_ids: 47361 → 792\n",
      "2025-08-26 13:08:36,575 INFO:Filtered chunk by valid actions: 792 → 792\n",
      "2025-08-26 13:08:36,940 INFO:Filtered chunk by valid item_ids: 45842 → 920\n",
      "2025-08-26 13:08:36,943 INFO:Filtered chunk by valid actions: 920 → 920\n",
      "2025-08-26 13:08:37,312 INFO:Filtered chunk by valid item_ids: 45718 → 658\n",
      "2025-08-26 13:08:37,315 INFO:Filtered chunk by valid actions: 658 → 658\n",
      "2025-08-26 13:08:37,671 INFO:Filtered chunk by valid item_ids: 45150 → 879\n",
      "2025-08-26 13:08:37,674 INFO:Filtered chunk by valid actions: 879 → 879\n",
      "2025-08-26 13:08:38,043 INFO:Filtered chunk by valid item_ids: 47571 → 943\n",
      "2025-08-26 13:08:38,047 INFO:Filtered chunk by valid actions: 943 → 943\n",
      "2025-08-26 13:08:38,405 INFO:Filtered chunk by valid item_ids: 46569 → 800\n",
      "2025-08-26 13:08:38,408 INFO:Filtered chunk by valid actions: 800 → 800\n",
      "2025-08-26 13:08:38,777 INFO:Filtered chunk by valid item_ids: 46243 → 1257\n",
      "2025-08-26 13:08:38,781 INFO:Filtered chunk by valid actions: 1257 → 1257\n",
      "2025-08-26 13:08:39,145 INFO:Filtered chunk by valid item_ids: 47070 → 969\n",
      "2025-08-26 13:08:39,148 INFO:Filtered chunk by valid actions: 969 → 969\n",
      "2025-08-26 13:08:39,509 INFO:Filtered chunk by valid item_ids: 46748 → 1268\n",
      "2025-08-26 13:08:39,513 INFO:Filtered chunk by valid actions: 1268 → 1268\n",
      "2025-08-26 13:08:39,872 INFO:Filtered chunk by valid item_ids: 47940 → 584\n",
      "2025-08-26 13:08:39,875 INFO:Filtered chunk by valid actions: 584 → 584\n",
      "2025-08-26 13:08:40,236 INFO:Filtered chunk by valid item_ids: 49188 → 941\n",
      "2025-08-26 13:08:40,240 INFO:Filtered chunk by valid actions: 941 → 941\n",
      "2025-08-26 13:08:40,615 INFO:Filtered chunk by valid item_ids: 48470 → 718\n",
      "2025-08-26 13:08:40,618 INFO:Filtered chunk by valid actions: 718 → 718\n",
      "2025-08-26 13:08:40,979 INFO:Filtered chunk by valid item_ids: 50757 → 1374\n",
      "2025-08-26 13:08:40,983 INFO:Filtered chunk by valid actions: 1374 → 1374\n",
      "2025-08-26 13:08:41,356 INFO:Filtered chunk by valid item_ids: 51440 → 946\n",
      "2025-08-26 13:08:41,359 INFO:Filtered chunk by valid actions: 946 → 946\n",
      "2025-08-26 13:08:41,732 INFO:Filtered chunk by valid item_ids: 56775 → 1391\n",
      "2025-08-26 13:08:41,736 INFO:Filtered chunk by valid actions: 1391 → 1391\n",
      "2025-08-26 13:08:42,105 INFO:Filtered chunk by valid item_ids: 46981 → 1052\n",
      "2025-08-26 13:08:42,109 INFO:Filtered chunk by valid actions: 1052 → 1052\n",
      "2025-08-26 13:08:42,471 INFO:Filtered chunk by valid item_ids: 45540 → 1116\n",
      "2025-08-26 13:08:42,475 INFO:Filtered chunk by valid actions: 1116 → 1116\n",
      "2025-08-26 13:08:42,834 INFO:Filtered chunk by valid item_ids: 45592 → 803\n",
      "2025-08-26 13:08:42,837 INFO:Filtered chunk by valid actions: 803 → 803\n",
      "2025-08-26 13:08:43,281 INFO:Filtered chunk by valid item_ids: 45046 → 790\n",
      "2025-08-26 13:08:43,285 INFO:Filtered chunk by valid actions: 790 → 790\n",
      "2025-08-26 13:08:43,647 INFO:Filtered chunk by valid item_ids: 46252 → 1524\n",
      "2025-08-26 13:08:43,651 INFO:Filtered chunk by valid actions: 1524 → 1524\n",
      "2025-08-26 13:08:44,020 INFO:Filtered chunk by valid item_ids: 47289 → 1347\n",
      "2025-08-26 13:08:44,024 INFO:Filtered chunk by valid actions: 1347 → 1347\n",
      "2025-08-26 13:08:44,382 INFO:Filtered chunk by valid item_ids: 47197 → 848\n",
      "2025-08-26 13:08:44,385 INFO:Filtered chunk by valid actions: 848 → 848\n",
      "2025-08-26 13:08:44,746 INFO:Filtered chunk by valid item_ids: 48149 → 1120\n",
      "2025-08-26 13:08:44,749 INFO:Filtered chunk by valid actions: 1120 → 1120\n",
      "2025-08-26 13:08:45,110 INFO:Filtered chunk by valid item_ids: 46241 → 1012\n",
      "2025-08-26 13:08:45,114 INFO:Filtered chunk by valid actions: 1012 → 1012\n",
      "2025-08-26 13:08:45,488 INFO:Filtered chunk by valid item_ids: 48941 → 2609\n",
      "2025-08-26 13:08:45,493 INFO:Filtered chunk by valid actions: 2609 → 2609\n",
      "2025-08-26 13:08:46,056 INFO:Filtered chunk by valid item_ids: 48539 → 927\n",
      "2025-08-26 13:08:46,062 INFO:Filtered chunk by valid actions: 927 → 927\n",
      "2025-08-26 13:08:46,443 INFO:Filtered chunk by valid item_ids: 50730 → 774\n",
      "2025-08-26 13:08:46,451 INFO:Filtered chunk by valid actions: 774 → 774\n",
      "2025-08-26 13:08:46,819 INFO:Filtered chunk by valid item_ids: 48283 → 567\n",
      "2025-08-26 13:08:46,822 INFO:Filtered chunk by valid actions: 567 → 567\n",
      "2025-08-26 13:08:47,191 INFO:Filtered chunk by valid item_ids: 51463 → 1121\n",
      "2025-08-26 13:08:47,195 INFO:Filtered chunk by valid actions: 1121 → 1121\n",
      "2025-08-26 13:08:47,576 INFO:Filtered chunk by valid item_ids: 60706 → 778\n",
      "2025-08-26 13:08:47,580 INFO:Filtered chunk by valid actions: 778 → 778\n",
      "2025-08-26 13:08:47,944 INFO:Filtered chunk by valid item_ids: 47885 → 1656\n",
      "2025-08-26 13:08:47,948 INFO:Filtered chunk by valid actions: 1656 → 1656\n",
      "2025-08-26 13:08:48,306 INFO:Filtered chunk by valid item_ids: 46758 → 1075\n",
      "2025-08-26 13:08:48,310 INFO:Filtered chunk by valid actions: 1075 → 1075\n",
      "2025-08-26 13:08:48,672 INFO:Filtered chunk by valid item_ids: 46513 → 1026\n",
      "2025-08-26 13:08:48,676 INFO:Filtered chunk by valid actions: 1026 → 1026\n",
      "2025-08-26 13:08:49,045 INFO:Filtered chunk by valid item_ids: 46297 → 1335\n",
      "2025-08-26 13:08:49,049 INFO:Filtered chunk by valid actions: 1335 → 1335\n",
      "2025-08-26 13:08:49,410 INFO:Filtered chunk by valid item_ids: 46352 → 1441\n",
      "2025-08-26 13:08:49,414 INFO:Filtered chunk by valid actions: 1441 → 1441\n",
      "2025-08-26 13:08:49,779 INFO:Filtered chunk by valid item_ids: 45382 → 971\n",
      "2025-08-26 13:08:49,783 INFO:Filtered chunk by valid actions: 971 → 971\n",
      "2025-08-26 13:08:50,144 INFO:Filtered chunk by valid item_ids: 47453 → 983\n",
      "2025-08-26 13:08:50,147 INFO:Filtered chunk by valid actions: 983 → 983\n",
      "2025-08-26 13:08:50,504 INFO:Filtered chunk by valid item_ids: 46042 → 972\n",
      "2025-08-26 13:08:50,507 INFO:Filtered chunk by valid actions: 972 → 972\n",
      "2025-08-26 13:08:50,912 INFO:Filtered chunk by valid item_ids: 47631 → 945\n",
      "2025-08-26 13:08:50,916 INFO:Filtered chunk by valid actions: 945 → 945\n",
      "2025-08-26 13:08:51,275 INFO:Filtered chunk by valid item_ids: 46921 → 1002\n",
      "2025-08-26 13:08:51,278 INFO:Filtered chunk by valid actions: 1002 → 1002\n",
      "2025-08-26 13:08:51,638 INFO:Filtered chunk by valid item_ids: 48514 → 853\n",
      "2025-08-26 13:08:51,641 INFO:Filtered chunk by valid actions: 853 → 853\n",
      "2025-08-26 13:08:52,003 INFO:Filtered chunk by valid item_ids: 49524 → 1219\n",
      "2025-08-26 13:08:52,007 INFO:Filtered chunk by valid actions: 1219 → 1219\n",
      "2025-08-26 13:08:52,505 INFO:Filtered chunk by valid item_ids: 49610 → 1000\n",
      "2025-08-26 13:08:52,509 INFO:Filtered chunk by valid actions: 1000 → 1000\n",
      "2025-08-26 13:08:52,872 INFO:Filtered chunk by valid item_ids: 50644 → 1829\n",
      "2025-08-26 13:08:52,877 INFO:Filtered chunk by valid actions: 1829 → 1829\n",
      "2025-08-26 13:08:53,239 INFO:Filtered chunk by valid item_ids: 52675 → 1036\n",
      "2025-08-26 13:08:53,242 INFO:Filtered chunk by valid actions: 1036 → 1036\n",
      "2025-08-26 13:08:53,556 INFO:Filtered chunk by valid item_ids: 52721 → 989\n",
      "2025-08-26 13:08:53,559 INFO:Filtered chunk by valid actions: 989 → 989\n"
     ]
    }
   ],
   "source": [
    "\n",
    "# 2. 加载并清洗 CF 数据\n",
    "cf_df = load_cf_behavior_df(\n",
    "    behavior_csv=behavior_csv,\n",
    "    days_window=30,           # 时间窗口 (默认 30 天)\n",
    "    valid_item_ids=valid_item_ids,\n",
    "    chunksize=100_000         # 分块大小\n",
    ")"
   ]
  },
  {
   "cell_type": "code",
   "execution_count": 6,
   "id": "fc4c1445",
   "metadata": {},
   "outputs": [
    {
     "name": "stdout",
     "output_type": "stream",
     "text": [
      "✅ CF 数据集维度: (112382, 4)\n",
      "✅ 字段: ['user_id', 'item_id', 'action_type', 'dt']\n",
      "   user_id  item_id action_type                            dt\n",
      "0   328862   258882       click 2024-11-02 14:50:49.813515685\n",
      "1   328862   294555       click 2024-10-26 20:42:50.407235200\n",
      "2   328862   406349       click 2024-11-11 18:59:48.378575636\n",
      "3   328862   406349       click 2024-11-11 18:21:08.158534803\n",
      "4   328862   698318       click 2024-10-22 16:34:25.475853907\n"
     ]
    }
   ],
   "source": [
    "# 3. 查看结果 DataFrame\n",
    "print(\"✅ CF 数据集维度:\", cf_df.shape)   # (行数, 列数)\n",
    "print(\"✅ 字段:\", cf_df.columns.tolist())\n",
    "\n",
    "# 4. 打印前 5 行\n",
    "print(cf_df.head())"
   ]
  },
  {
   "cell_type": "code",
   "execution_count": 7,
   "id": "d1b04a1b",
   "metadata": {},
   "outputs": [
    {
     "name": "stdout",
     "output_type": "stream",
     "text": [
      "✅ 用户数: 39983, Item 数: 335\n"
     ]
    }
   ],
   "source": [
    "# 5. 统计一下有多少用户、多少 item\n",
    "n_users = cf_df[\"user_id\"].nunique()\n",
    "n_items = cf_df[\"item_id\"].nunique()\n",
    "print(f\"✅ 用户数: {n_users}, Item 数: {n_items}\")"
   ]
  },
  {
   "cell_type": "code",
   "execution_count": 12,
   "id": "2285cc7b",
   "metadata": {},
   "outputs": [
    {
     "name": "stdout",
     "output_type": "stream",
     "text": [
      "['user_id', 'item_id', 'author_id', 'year', 'time_stamp', 'action_type', 'timestamp']\n"
     ]
    }
   ],
   "source": [
    "df = pd.read_csv(\"data/raw/user_behavior_log_info.csv\", nrows=0, encoding=\"utf-8-sig\")\n",
    "print(df.columns.tolist())"
   ]
  },
  {
   "cell_type": "code",
   "execution_count": 17,
   "id": "7f0cb504",
   "metadata": {},
   "outputs": [],
   "source": [
    "# 📌 Step 1: 导入依赖\n",
    "import pandas as pd\n",
    "import random\n",
    "\n",
    "# 修改路径为你自己的文件路径\n",
    "BEHAVIOR_CSV = \"data/raw/user_behavior_log_info.csv\"\n",
    "RECALL_CSV = \"output/item_cf/itemcf_recall.csv\"\n"
   ]
  },
  {
   "cell_type": "code",
   "execution_count": 18,
   "id": "6e4afa0a",
   "metadata": {},
   "outputs": [
    {
     "name": "stdout",
     "output_type": "stream",
     "text": [
      "行为日志用户总数: 423879\n",
      "召回结果用户总数: 39983\n"
     ]
    }
   ],
   "source": [
    "# 📌 Step 2: 读取数据\n",
    "behavior_df = pd.read_csv(BEHAVIOR_CSV, usecols=[\"user_id\"])\n",
    "recall_df = pd.read_csv(RECALL_CSV, usecols=[\"user_id\"])\n",
    "\n",
    "# 转换成整数类型（避免字符串和整数不匹配）\n",
    "behavior_user_ids = set(pd.to_numeric(behavior_df[\"user_id\"], errors=\"coerce\").dropna().astype(int))\n",
    "recall_user_ids = set(pd.to_numeric(recall_df[\"user_id\"], errors=\"coerce\").dropna().astype(int))\n",
    "\n",
    "print(f\"行为日志用户总数: {len(behavior_user_ids)}\")\n",
    "print(f\"召回结果用户总数: {len(recall_user_ids)}\")\n"
   ]
  },
  {
   "cell_type": "code",
   "execution_count": 19,
   "id": "c175468d",
   "metadata": {},
   "outputs": [
    {
     "name": "stdout",
     "output_type": "stream",
     "text": [
      "❌ 不在行为日志中的 user_id 数量: 0\n",
      "🎉 所有召回结果中的 user_id 都在行为日志中找到\n"
     ]
    }
   ],
   "source": [
    "# 📌 Step 3: 找出召回结果中不存在于行为日志的 user_id\n",
    "invalid_users = recall_user_ids - behavior_user_ids\n",
    "print(f\"❌ 不在行为日志中的 user_id 数量: {len(invalid_users)}\")\n",
    "\n",
    "if invalid_users:\n",
    "    print(\"示例 (最多10个):\", list(invalid_users)[:10])\n",
    "else:\n",
    "    print(\"🎉 所有召回结果中的 user_id 都在行为日志中找到\")\n"
   ]
  },
  {
   "cell_type": "code",
   "execution_count": 20,
   "id": "72eb2243",
   "metadata": {},
   "outputs": [
    {
     "name": "stdout",
     "output_type": "stream",
     "text": [
      "🎲 随机抽样 10 个召回 user_id:\n",
      "user_id 332300: ✅ 存在\n",
      "user_id 328596: ✅ 存在\n",
      "user_id 391610: ✅ 存在\n",
      "user_id 299050: ✅ 存在\n",
      "user_id 346785: ✅ 存在\n",
      "user_id 166484: ✅ 存在\n",
      "user_id 230627: ✅ 存在\n",
      "user_id 42650: ✅ 存在\n",
      "user_id 113771: ✅ 存在\n",
      "user_id 398179: ✅ 存在\n"
     ]
    },
    {
     "name": "stderr",
     "output_type": "stream",
     "text": [
      "/var/folders/gt/0bpw6l095l7fmbtr7428l3n40000gn/T/ipykernel_32589/2961660136.py:2: DeprecationWarning: Sampling from a set deprecated\n",
      "since Python 3.9 and will be removed in a subsequent version.\n",
      "  sample_users = random.sample(recall_user_ids, 10)\n"
     ]
    }
   ],
   "source": [
    "# 📌 Step 4: 随机抽样一些召回结果里的 user_id，验证它们是否在行为日志中\n",
    "sample_users = random.sample(recall_user_ids, 10)\n",
    "print(\"🎲 随机抽样 10 个召回 user_id:\")\n",
    "for uid in sample_users:\n",
    "    exists = uid in behavior_user_ids\n",
    "    print(f\"user_id {uid}: {'✅ 存在' if exists else '❌ 不存在'}\")\n"
   ]
  },
  {
   "cell_type": "code",
   "execution_count": 22,
   "id": "ab52f797",
   "metadata": {},
   "outputs": [
    {
     "name": "stderr",
     "output_type": "stream",
     "text": [
      "/Users/dallylovely/opt/anaconda3/lib/python3.9/site-packages/IPython/core/pylabtools.py:151: UserWarning: Glyph 65288 (\\N{FULLWIDTH LEFT PARENTHESIS}) missing from current font.\n",
      "  fig.canvas.print_figure(bytes_io, **kw)\n",
      "/Users/dallylovely/opt/anaconda3/lib/python3.9/site-packages/IPython/core/pylabtools.py:151: UserWarning: Glyph 21069 (\\N{CJK UNIFIED IDEOGRAPH-524D}) missing from current font.\n",
      "  fig.canvas.print_figure(bytes_io, **kw)\n",
      "/Users/dallylovely/opt/anaconda3/lib/python3.9/site-packages/IPython/core/pylabtools.py:151: UserWarning: Glyph 20010 (\\N{CJK UNIFIED IDEOGRAPH-4E2A}) missing from current font.\n",
      "  fig.canvas.print_figure(bytes_io, **kw)\n",
      "/Users/dallylovely/opt/anaconda3/lib/python3.9/site-packages/IPython/core/pylabtools.py:151: UserWarning: Glyph 65289 (\\N{FULLWIDTH RIGHT PARENTHESIS}) missing from current font.\n",
      "  fig.canvas.print_figure(bytes_io, **kw)\n"
     ]
    },
    {
     "data": {
      "image/png": "[encoded data removed]",
      "text/plain": [
       "<Figure size 1000x600 with 1 Axes>"
      ]
     },
     "metadata": {},
     "output_type": "display_data"
    },
    {
     "name": "stdout",
     "output_type": "stream",
     "text": [
      "✅ 前200个 user_id 示例: [1, 2, 3, 4, 5, 6, 7, 8, 9, 10, 11, 12, 13, 14, 15, 16, 17, 18, 19, 20, 21, 22, 23, 24, 25, 26, 27, 28, 29, 30, 31, 32, 33, 34, 35, 36, 37, 38, 39, 40, 41, 42, 43, 44, 45, 46, 47, 48, 49, 50]\n"
     ]
    }
   ],
   "source": [
    "# 📌 Step 5: 只看 user_id <= 200 的分布\n",
    "import matplotlib.pyplot as plt\n",
    "\n",
    "subset = behavior_df[behavior_df[\"user_id\"] <= 200]\n",
    "\n",
    "plt.figure(figsize=(10,6))\n",
    "plt.hist(subset[\"user_id\"], bins=200, color=\"orange\", edgecolor=\"black\")\n",
    "plt.title(\"User ID 分布直方图（前 200 个用户）\")\n",
    "plt.xlabel(\"user_id (<=200)\")\n",
    "plt.ylabel(\"用户数\")\n",
    "plt.grid(axis=\"y\", alpha=0.5)\n",
    "plt.show()\n",
    "\n",
    "print(\"✅ 前200个 user_id 示例:\", subset[\"user_id\"].drop_duplicates().sort_values().tolist()[:50])\n",
    "\n"
   ]
  },
  {
   "cell_type": "code",
   "execution_count": null,
   "id": "13b8c300",
   "metadata": {},
   "outputs": [],
   "source": []
  }
 ],
 "metadata": {
  "kernelspec": {
   "display_name": "base",
   "language": "python",
   "name": "python3"
  },
  "language_info": {
   "codemirror_mode": {
    "name": "ipython",
    "version": 3
   },
   "file_extension": ".py",
   "mimetype": "text/x-python",
   "name": "python",
   "nbconvert_exporter": "python",
   "pygments_lexer": "ipython3",
   "version": "3.9.18"
  }
 },
 "nbformat": 4,
 "nbformat_minor": 5
}
